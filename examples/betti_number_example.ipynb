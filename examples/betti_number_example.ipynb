{
 "cells": [
  {
   "cell_type": "markdown",
   "metadata": {},
   "source": [
    "# Examples of Betti Numbers"
   ]
  },
  {
   "cell_type": "code",
   "execution_count": 5,
   "metadata": {
    "execution": {
     "iopub.execute_input": "2020-04-22T22:55:40.186758Z",
     "iopub.status.busy": "2020-04-22T22:55:40.185912Z",
     "iopub.status.idle": "2020-04-22T22:55:40.572932Z",
     "shell.execute_reply": "2020-04-22T22:55:40.572032Z",
     "shell.execute_reply.started": "2020-04-22T22:55:40.186698Z"
    }
   },
   "outputs": [],
   "source": [
    "import os\n",
    "import sys\n",
    "\n",
    "import numpy as np\n",
    "import matplotlib.pyplot as plt\n",
    "import scipy.ndimage\n",
    "\n",
    "homcv_dir = os.path.split(os.getcwd())[0]\n",
    "if homcv_dir not in sys.path:\n",
    "    sys.path.append(homcv_dir)\n",
    "from homcv.betti_numbers import betti_numbers"
   ]
  },
  {
   "cell_type": "code",
   "execution_count": 6,
   "metadata": {},
   "outputs": [],
   "source": [
    "def plot_image(image):\n",
    "    plt.imshow(image, cmap = 'Greys')\n",
    "    plt.colorbar()\n",
    "\n",
    "def load_image(image_filename):\n",
    "    filepath = os.path.join('images', image_filename)\n",
    "    image = 1 - plt.imread(filepath)[:,:, 0] \n",
    "    return image"
   ]
  },
  {
   "cell_type": "markdown",
   "metadata": {},
   "source": [
    "We begin by computing the betti numbers of a dark region weakly equivalent to a\n",
    "\n",
    "### Circle"
   ]
  },
  {
   "cell_type": "code",
   "execution_count": 7,
   "metadata": {
    "execution": {
     "iopub.execute_input": "2020-04-22T19:51:21.494342Z",
     "iopub.status.busy": "2020-04-22T19:51:21.493450Z",
     "iopub.status.idle": "2020-04-22T19:51:21.717399Z",
     "shell.execute_reply": "2020-04-22T19:51:21.716462Z",
     "shell.execute_reply.started": "2020-04-22T19:51:21.494264Z"
    }
   },
   "outputs": [
    {
     "data": {
      "image/png": "[encoded data removed]",
      "text/plain": [
       "<Figure size 432x288 with 2 Axes>"
      ]
     },
     "metadata": {
      "needs_background": "light"
     },
     "output_type": "display_data"
    }
   ],
   "source": [
    "disk = np.zeros((10, 10))\n",
    "disk[1:4, 1: 4] = 1\n",
    "\n",
    "plot_image(disk)"
   ]
  },
  {
   "cell_type": "markdown",
   "metadata": {
    "execution": {
     "iopub.execute_input": "2020-04-22T16:13:56.460259Z",
     "iopub.status.busy": "2020-04-22T16:13:56.459752Z",
     "iopub.status.idle": "2020-04-22T16:13:56.472266Z",
     "shell.execute_reply": "2020-04-22T16:13:56.468548Z",
     "shell.execute_reply.started": "2020-04-22T16:13:56.460200Z"
    }
   },
   "source": [
    "The dark region has a single connected component and no first homology classes. "
   ]
  },
  {
   "cell_type": "code",
   "execution_count": 8,
   "metadata": {
    "execution": {
     "iopub.execute_input": "2020-04-22T19:51:22.953418Z",
     "iopub.status.busy": "2020-04-22T19:51:22.952948Z",
     "iopub.status.idle": "2020-04-22T19:51:22.964146Z",
     "shell.execute_reply": "2020-04-22T19:51:22.962817Z",
     "shell.execute_reply.started": "2020-04-22T19:51:22.953370Z"
    }
   },
   "outputs": [
    {
     "data": {
      "text/plain": [
       "array([1, 0], dtype=int8)"
      ]
     },
     "execution_count": 8,
     "metadata": {},
     "output_type": "execute_result"
    }
   ],
   "source": [
    "betti_numbers(disk)"
   ]
  },
  {
   "cell_type": "markdown",
   "metadata": {},
   "source": [
    "We can now examine the betti numbers of a dark region weakly equivalent to a\n",
    "\n",
    "### Circle"
   ]
  },
  {
   "cell_type": "code",
   "execution_count": 9,
   "metadata": {
    "execution": {
     "iopub.execute_input": "2020-04-22T19:51:23.100990Z",
     "iopub.status.busy": "2020-04-22T19:51:23.100584Z",
     "iopub.status.idle": "2020-04-22T19:51:23.295264Z",
     "shell.execute_reply": "2020-04-22T19:51:23.294184Z",
     "shell.execute_reply.started": "2020-04-22T19:51:23.100945Z"
    }
   },
   "outputs": [
    {
     "data": {
      "image/png": "[encoded data removed]",
      "text/plain": [
       "<Figure size 432x288 with 2 Axes>"
      ]
     },
     "metadata": {
      "needs_background": "light"
     },
     "output_type": "display_data"
    }
   ],
   "source": [
    "circle = np.zeros((10, 10))\n",
    "circle[[1, 3], 1: 4] = 1\n",
    "circle[1:4, [1, 3]] = 1\n",
    "\n",
    "plot_image(circle)"
   ]
  },
  {
   "cell_type": "markdown",
   "metadata": {},
   "source": [
    "The dark region has a single connected component and a single homology class. "
   ]
  },
  {
   "cell_type": "code",
   "execution_count": 10,
   "metadata": {
    "execution": {
     "iopub.execute_input": "2020-04-22T19:51:23.366463Z",
     "iopub.status.busy": "2020-04-22T19:51:23.366048Z",
     "iopub.status.idle": "2020-04-22T19:51:23.380667Z",
     "shell.execute_reply": "2020-04-22T19:51:23.378005Z",
     "shell.execute_reply.started": "2020-04-22T19:51:23.366417Z"
    }
   },
   "outputs": [
    {
     "data": {
      "text/plain": [
       "array([1, 1], dtype=int8)"
      ]
     },
     "execution_count": 10,
     "metadata": {},
     "output_type": "execute_result"
    }
   ],
   "source": [
    "betti_numbers(circle)"
   ]
  },
  {
   "cell_type": "markdown",
   "metadata": {},
   "source": [
    "We can now examine the betti numbers of a dark region weakly equivalent to a\n",
    "\n",
    "### Figure Eight"
   ]
  },
  {
   "cell_type": "code",
   "execution_count": 11,
   "metadata": {
    "execution": {
     "iopub.execute_input": "2020-04-22T19:51:23.505569Z",
     "iopub.status.busy": "2020-04-22T19:51:23.505149Z",
     "iopub.status.idle": "2020-04-22T19:51:23.737776Z",
     "shell.execute_reply": "2020-04-22T19:51:23.736963Z",
     "shell.execute_reply.started": "2020-04-22T19:51:23.505523Z"
    }
   },
   "outputs": [
    {
     "data": {
      "image/png": "[encoded data removed]",
      "text/plain": [
       "<Figure size 432x288 with 2 Axes>"
      ]
     },
     "metadata": {
      "needs_background": "light"
     },
     "output_type": "display_data"
    }
   ],
   "source": [
    "figure_eight= np.zeros((10, 10))\n",
    "figure_eight[[1, 3], 1: 8] = 1\n",
    "figure_eight[1:4, [1, 3, 7]] = 1\n",
    "\n",
    "plot_image(figure_eight)"
   ]
  },
  {
   "cell_type": "markdown",
   "metadata": {
    "execution": {
     "iopub.execute_input": "2020-04-22T16:16:46.381429Z",
     "iopub.status.busy": "2020-04-22T16:16:46.381072Z",
     "iopub.status.idle": "2020-04-22T16:16:46.391855Z",
     "shell.execute_reply": "2020-04-22T16:16:46.389762Z",
     "shell.execute_reply.started": "2020-04-22T16:16:46.381388Z"
    }
   },
   "source": [
    "The dark region has a single connected component and two first homology classes. "
   ]
  },
  {
   "cell_type": "code",
   "execution_count": 12,
   "metadata": {
    "execution": {
     "iopub.execute_input": "2020-04-22T19:51:23.785936Z",
     "iopub.status.busy": "2020-04-22T19:51:23.785234Z",
     "iopub.status.idle": "2020-04-22T19:51:23.800821Z",
     "shell.execute_reply": "2020-04-22T19:51:23.799018Z",
     "shell.execute_reply.started": "2020-04-22T19:51:23.785871Z"
    }
   },
   "outputs": [
    {
     "data": {
      "text/plain": [
       "array([1, 2], dtype=int8)"
      ]
     },
     "execution_count": 12,
     "metadata": {},
     "output_type": "execute_result"
    }
   ],
   "source": [
    "betti_numbers(figure_eight, .5)"
   ]
  },
  {
   "cell_type": "code",
   "execution_count": 13,
   "metadata": {
    "execution": {
     "iopub.execute_input": "2020-04-22T19:51:23.927394Z",
     "iopub.status.busy": "2020-04-22T19:51:23.926983Z",
     "iopub.status.idle": "2020-04-22T19:51:24.113852Z",
     "shell.execute_reply": "2020-04-22T19:51:24.112843Z",
     "shell.execute_reply.started": "2020-04-22T19:51:23.927348Z"
    }
   },
   "outputs": [
    {
     "data": {
      "image/png": "[encoded data removed]",
      "text/plain": [
       "<Figure size 432x288 with 2 Axes>"
      ]
     },
     "metadata": {
      "needs_background": "light"
     },
     "output_type": "display_data"
    }
   ],
   "source": [
    "two_circles= np.zeros((10, 10))\n",
    "two_circles[[1, 3], 1: 4] = 1\n",
    "two_circles[[1, 3], 5: 7] = 1\n",
    "two_circles[1:4, [1, 3, 5, 7]] = 1\n",
    "\n",
    "plot_image(two_circles)"
   ]
  },
  {
   "cell_type": "markdown",
   "metadata": {},
   "source": [
    "The dark region has a two connected components and two first homology classes. "
   ]
  },
  {
   "cell_type": "code",
   "execution_count": 14,
   "metadata": {
    "execution": {
     "iopub.execute_input": "2020-04-22T19:51:24.210173Z",
     "iopub.status.busy": "2020-04-22T19:51:24.209757Z",
     "iopub.status.idle": "2020-04-22T19:51:24.221145Z",
     "shell.execute_reply": "2020-04-22T19:51:24.219720Z",
     "shell.execute_reply.started": "2020-04-22T19:51:24.210128Z"
    }
   },
   "outputs": [
    {
     "data": {
      "text/plain": [
       "array([2, 2], dtype=int8)"
      ]
     },
     "execution_count": 14,
     "metadata": {},
     "output_type": "execute_result"
    }
   ],
   "source": [
    "betti_numbers(two_circles)"
   ]
  },
  {
   "cell_type": "markdown",
   "metadata": {},
   "source": [
    "This construction in no way relies upon a fixed (e.g. cartesian) geometry. We can\n",
    "\n",
    "## Blob"
   ]
  },
  {
   "cell_type": "code",
   "execution_count": 15,
   "metadata": {},
   "outputs": [
    {
     "data": {
      "text/plain": [
       "(681, 1111)"
      ]
     },
     "execution_count": 15,
     "metadata": {},
     "output_type": "execute_result"
    },
    {
     "data": {
      "image/png": "[encoded data removed]",
      "text/plain": [
       "<Figure size 432x288 with 2 Axes>"
      ]
     },
     "metadata": {
      "needs_background": "light"
     },
     "output_type": "display_data"
    }
   ],
   "source": [
    "blob = load_image('blob.png')\n",
    "plot_image(blob)\n",
    "blob.shape"
   ]
  },
  {
   "cell_type": "markdown",
   "metadata": {},
   "source": [
    "As this blob is weakly equivalent to a disk, they should have the same betti numbers:"
   ]
  },
  {
   "cell_type": "code",
   "execution_count": 16,
   "metadata": {},
   "outputs": [
    {
     "data": {
      "text/plain": [
       "array([ True,  True])"
      ]
     },
     "execution_count": 16,
     "metadata": {},
     "output_type": "execute_result"
    }
   ],
   "source": [
    "betti_numbers(blob) == betti_numbers(disk)"
   ]
  },
  {
   "cell_type": "markdown",
   "metadata": {},
   "source": [
    "Similarly, we can apply this construction to a\n",
    "\n",
    "## Blob with a Hole"
   ]
  },
  {
   "cell_type": "code",
   "execution_count": 17,
   "metadata": {},
   "outputs": [
    {
     "data": {
      "text/plain": [
       "(573, 1025)"
      ]
     },
     "execution_count": 17,
     "metadata": {},
     "output_type": "execute_result"
    },
    {
     "data": {
      "image/png": "[encoded data removed]",
      "text/plain": [
       "<Figure size 432x288 with 2 Axes>"
      ]
     },
     "metadata": {
      "needs_background": "light"
     },
     "output_type": "display_data"
    }
   ],
   "source": [
    "blob_with_hole = load_image('blob_with_hole.png')\n",
    "plot_image(blob_with_hole)\n",
    "blob_with_hole.shape"
   ]
  },
  {
   "cell_type": "markdown",
   "metadata": {},
   "source": [
    "As this blob is weakly equivalent to a circle, they should have the same betti numbers:"
   ]
  },
  {
   "cell_type": "code",
   "execution_count": 18,
   "metadata": {},
   "outputs": [
    {
     "data": {
      "text/plain": [
       "array([ True,  True])"
      ]
     },
     "execution_count": 18,
     "metadata": {},
     "output_type": "execute_result"
    }
   ],
   "source": [
    "betti_numbers(blob_with_hole) == betti_numbers(circle)"
   ]
  },
  {
   "cell_type": "code",
   "execution_count": null,
   "metadata": {},
   "outputs": [],
   "source": []
  }
 ],
 "metadata": {
  "kernelspec": {
   "display_name": "Python 3",
   "language": "python",
   "name": "python3"
  },
  "language_info": {
   "codemirror_mode": {
    "name": "ipython",
    "version": 3
   },
   "file_extension": ".py",
   "mimetype": "text/x-python",
   "name": "python",
   "nbconvert_exporter": "python",
   "pygments_lexer": "ipython3",
   "version": "3.7.6"
  }
 },
 "nbformat": 4,
 "nbformat_minor": 4
}
