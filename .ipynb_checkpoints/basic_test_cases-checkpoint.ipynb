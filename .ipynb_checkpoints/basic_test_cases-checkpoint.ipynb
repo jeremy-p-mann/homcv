{
 "cells": [
  {
   "cell_type": "markdown",
   "metadata": {},
   "source": [
    "# Test Cases"
   ]
  },
  {
   "cell_type": "markdown",
   "metadata": {},
   "source": [
    "## Betti Numbers\n",
    "\n",
    "Below are a few examples of the first and second betti numbers of various (binary) images."
   ]
  },
  {
   "cell_type": "code",
   "execution_count": 48,
   "metadata": {
    "execution": {
     "iopub.execute_input": "2020-04-22T22:55:40.186758Z",
     "iopub.status.busy": "2020-04-22T22:55:40.185912Z",
     "iopub.status.idle": "2020-04-22T22:55:40.572932Z",
     "shell.execute_reply": "2020-04-22T22:55:40.572032Z",
     "shell.execute_reply.started": "2020-04-22T22:55:40.186698Z"
    }
   },
   "outputs": [],
   "source": [
    "import numpy as np\n",
    "import matplotlib.pyplot as plt\n",
    "import images_betti_number as ibn\n",
    "import cv2"
   ]
  },
  {
   "cell_type": "code",
   "execution_count": 2,
   "metadata": {
    "execution": {
     "iopub.execute_input": "2020-04-22T19:51:21.494342Z",
     "iopub.status.busy": "2020-04-22T19:51:21.493450Z",
     "iopub.status.idle": "2020-04-22T19:51:21.717399Z",
     "shell.execute_reply": "2020-04-22T19:51:21.716462Z",
     "shell.execute_reply.started": "2020-04-22T19:51:21.494264Z"
    }
   },
   "outputs": [
    {
     "data": {
      "text/plain": [
       "<matplotlib.image.AxesImage at 0x1a1a3d8828>"
      ]
     },
     "execution_count": 2,
     "metadata": {},
     "output_type": "execute_result"
    },
    {
     "data": {
      "image/png": "[encoded data removed]",
      "text/plain": [
       "<Figure size 432x288 with 1 Axes>"
      ]
     },
     "metadata": {
      "needs_background": "light"
     },
     "output_type": "display_data"
    }
   ],
   "source": [
    "image1= np.zeros((10, 10))\n",
    "image1[1:4, 1: 4] = 1\n",
    "image1[1:4, 1:4] = 1\n",
    "plt.imshow(image1.T, origin = 'lower', cmap = 'Greys')"
   ]
  },
  {
   "cell_type": "markdown",
   "metadata": {
    "execution": {
     "iopub.execute_input": "2020-04-22T16:13:56.460259Z",
     "iopub.status.busy": "2020-04-22T16:13:56.459752Z",
     "iopub.status.idle": "2020-04-22T16:13:56.472266Z",
     "shell.execute_reply": "2020-04-22T16:13:56.468548Z",
     "shell.execute_reply.started": "2020-04-22T16:13:56.460200Z"
    }
   },
   "source": [
    "The dark region has a single connected component and no homology classes. \n",
    "\n",
    "Hopefully, `ibn.betti_numbers` gives `[1, 0]`"
   ]
  },
  {
   "cell_type": "code",
   "execution_count": 3,
   "metadata": {
    "execution": {
     "iopub.execute_input": "2020-04-22T19:51:22.953418Z",
     "iopub.status.busy": "2020-04-22T19:51:22.952948Z",
     "iopub.status.idle": "2020-04-22T19:51:22.964146Z",
     "shell.execute_reply": "2020-04-22T19:51:22.962817Z",
     "shell.execute_reply.started": "2020-04-22T19:51:22.953370Z"
    }
   },
   "outputs": [
    {
     "data": {
      "text/plain": [
       "[1, 0]"
      ]
     },
     "execution_count": 3,
     "metadata": {},
     "output_type": "execute_result"
    }
   ],
   "source": [
    "ibn.betti_numbers(image1, .5)"
   ]
  },
  {
   "cell_type": "code",
   "execution_count": 4,
   "metadata": {
    "execution": {
     "iopub.execute_input": "2020-04-22T19:51:23.100990Z",
     "iopub.status.busy": "2020-04-22T19:51:23.100584Z",
     "iopub.status.idle": "2020-04-22T19:51:23.295264Z",
     "shell.execute_reply": "2020-04-22T19:51:23.294184Z",
     "shell.execute_reply.started": "2020-04-22T19:51:23.100945Z"
    }
   },
   "outputs": [
    {
     "data": {
      "text/plain": [
       "<matplotlib.image.AxesImage at 0x1a1a50b2e8>"
      ]
     },
     "execution_count": 4,
     "metadata": {},
     "output_type": "execute_result"
    },
    {
     "data": {
      "image/png": "[encoded data removed]",
      "text/plain": [
       "<Figure size 432x288 with 1 Axes>"
      ]
     },
     "metadata": {
      "needs_background": "light"
     },
     "output_type": "display_data"
    }
   ],
   "source": [
    "image2= np.zeros((10, 10))\n",
    "image2[[1, 3], 1: 4] = 1\n",
    "image2[1:4, [1, 3]] = 1\n",
    "plt.imshow(image2.T, origin = 'lower', cmap = 'Greys')"
   ]
  },
  {
   "cell_type": "markdown",
   "metadata": {},
   "source": [
    "The dark region has a single connected component and a single homology class. \n",
    "\n",
    "Hopefully, `ibn.betti_numbers` gives `[1, 1]`"
   ]
  },
  {
   "cell_type": "code",
   "execution_count": 5,
   "metadata": {
    "execution": {
     "iopub.execute_input": "2020-04-22T19:51:23.366463Z",
     "iopub.status.busy": "2020-04-22T19:51:23.366048Z",
     "iopub.status.idle": "2020-04-22T19:51:23.380667Z",
     "shell.execute_reply": "2020-04-22T19:51:23.378005Z",
     "shell.execute_reply.started": "2020-04-22T19:51:23.366417Z"
    }
   },
   "outputs": [
    {
     "data": {
      "text/plain": [
       "[1, 1]"
      ]
     },
     "execution_count": 5,
     "metadata": {},
     "output_type": "execute_result"
    }
   ],
   "source": [
    "ibn.betti_numbers(image2, .5)"
   ]
  },
  {
   "cell_type": "code",
   "execution_count": 6,
   "metadata": {
    "execution": {
     "iopub.execute_input": "2020-04-22T19:51:23.505569Z",
     "iopub.status.busy": "2020-04-22T19:51:23.505149Z",
     "iopub.status.idle": "2020-04-22T19:51:23.737776Z",
     "shell.execute_reply": "2020-04-22T19:51:23.736963Z",
     "shell.execute_reply.started": "2020-04-22T19:51:23.505523Z"
    }
   },
   "outputs": [
    {
     "data": {
      "text/plain": [
       "<matplotlib.image.AxesImage at 0x1a1a4b5cf8>"
      ]
     },
     "execution_count": 6,
     "metadata": {},
     "output_type": "execute_result"
    },
    {
     "data": {
      "image/png": "[encoded data removed]",
      "text/plain": [
       "<Figure size 432x288 with 1 Axes>"
      ]
     },
     "metadata": {
      "needs_background": "light"
     },
     "output_type": "display_data"
    }
   ],
   "source": [
    "image3= np.zeros((10, 10))\n",
    "image3[[1, 3], 1: 8] = 1\n",
    "image3[1:4, [1, 3, 7]] = 1\n",
    "plt.imshow(image3.T, origin = 'lower', cmap = 'Greys')"
   ]
  },
  {
   "cell_type": "markdown",
   "metadata": {
    "execution": {
     "iopub.execute_input": "2020-04-22T16:16:46.381429Z",
     "iopub.status.busy": "2020-04-22T16:16:46.381072Z",
     "iopub.status.idle": "2020-04-22T16:16:46.391855Z",
     "shell.execute_reply": "2020-04-22T16:16:46.389762Z",
     "shell.execute_reply.started": "2020-04-22T16:16:46.381388Z"
    }
   },
   "source": [
    "The dark region has a single connected component and two homology classes. \n",
    "\n",
    "Hopefully, `ibn.betti_numbers` gives `[1, 2]`"
   ]
  },
  {
   "cell_type": "code",
   "execution_count": 7,
   "metadata": {
    "execution": {
     "iopub.execute_input": "2020-04-22T19:51:23.785936Z",
     "iopub.status.busy": "2020-04-22T19:51:23.785234Z",
     "iopub.status.idle": "2020-04-22T19:51:23.800821Z",
     "shell.execute_reply": "2020-04-22T19:51:23.799018Z",
     "shell.execute_reply.started": "2020-04-22T19:51:23.785871Z"
    }
   },
   "outputs": [
    {
     "data": {
      "text/plain": [
       "[1, 1]"
      ]
     },
     "execution_count": 7,
     "metadata": {},
     "output_type": "execute_result"
    }
   ],
   "source": [
    "ibn.betti_numbers(image2, .5)"
   ]
  },
  {
   "cell_type": "code",
   "execution_count": 8,
   "metadata": {
    "execution": {
     "iopub.execute_input": "2020-04-22T19:51:23.927394Z",
     "iopub.status.busy": "2020-04-22T19:51:23.926983Z",
     "iopub.status.idle": "2020-04-22T19:51:24.113852Z",
     "shell.execute_reply": "2020-04-22T19:51:24.112843Z",
     "shell.execute_reply.started": "2020-04-22T19:51:23.927348Z"
    }
   },
   "outputs": [
    {
     "data": {
      "text/plain": [
       "<matplotlib.image.AxesImage at 0x10703a7b8>"
      ]
     },
     "execution_count": 8,
     "metadata": {},
     "output_type": "execute_result"
    },
    {
     "data": {
      "image/png": "[encoded data removed]",
      "text/plain": [
       "<Figure size 432x288 with 1 Axes>"
      ]
     },
     "metadata": {
      "needs_background": "light"
     },
     "output_type": "display_data"
    }
   ],
   "source": [
    "image4= np.zeros((10, 10))\n",
    "image4[[1, 3], 1: 4] = 1\n",
    "image4[[1, 3], 5: 7] = 1\n",
    "image4[1:4, [1, 3, 5, 7]] = 1\n",
    "plt.imshow(image4.T, origin = 'lower', cmap = 'Greys')"
   ]
  },
  {
   "cell_type": "markdown",
   "metadata": {},
   "source": [
    "The dark region has a two connected components and two homology classes. \n",
    "\n",
    "Hopefully, `ibn.betti_numbers` gives `[2, 2]`"
   ]
  },
  {
   "cell_type": "code",
   "execution_count": 9,
   "metadata": {
    "execution": {
     "iopub.execute_input": "2020-04-22T19:51:24.210173Z",
     "iopub.status.busy": "2020-04-22T19:51:24.209757Z",
     "iopub.status.idle": "2020-04-22T19:51:24.221145Z",
     "shell.execute_reply": "2020-04-22T19:51:24.219720Z",
     "shell.execute_reply.started": "2020-04-22T19:51:24.210128Z"
    }
   },
   "outputs": [
    {
     "data": {
      "text/plain": [
       "[1, 1]"
      ]
     },
     "execution_count": 9,
     "metadata": {},
     "output_type": "execute_result"
    }
   ],
   "source": [
    "ibn.betti_numbers(image2, .5)"
   ]
  },
  {
   "cell_type": "markdown",
   "metadata": {},
   "source": [
    "## Homological Labelling\n",
    "\n",
    "The `homology_labeling` function labels a connected component of the dark region by the dimension of it's first homology group, and the light region by $-1$.\n",
    "\n",
    "Below is a toy example:"
   ]
  },
  {
   "cell_type": "code",
   "execution_count": 44,
   "metadata": {
    "execution": {
     "iopub.execute_input": "2020-04-22T22:45:07.491829Z",
     "iopub.status.busy": "2020-04-22T22:45:07.491391Z",
     "iopub.status.idle": "2020-04-22T22:45:07.665925Z",
     "shell.execute_reply": "2020-04-22T22:45:07.664924Z",
     "shell.execute_reply.started": "2020-04-22T22:45:07.491701Z"
    }
   },
   "outputs": [
    {
     "data": {
      "text/plain": [
       "<matplotlib.image.AxesImage at 0x1a3ac6ac18>"
      ]
     },
     "execution_count": 44,
     "metadata": {},
     "output_type": "execute_result"
    },
    {
     "data": {
      "image/png": "[encoded data removed]",
      "text/plain": [
       "<Figure size 432x288 with 1 Axes>"
      ]
     },
     "metadata": {
      "needs_background": "light"
     },
     "output_type": "display_data"
    }
   ],
   "source": [
    "image= np.zeros((10, 10))\n",
    "\n",
    "image[[1, 3], 1: 4] = 1\n",
    "image[[1, 3], 5: 7] = 1\n",
    "image[1:4, [1, 3, 5, 7]] = 1\n",
    "image[[6,9], 4:9 ] = 1\n",
    "image[6:9, [4, 6, 8 ]] = 1\n",
    "image[6:8, 1:3] = 1\n",
    "\n",
    "plt.imshow(image.T, origin = 'lower', cmap = 'Greys')"
   ]
  },
  {
   "cell_type": "code",
   "execution_count": 45,
   "metadata": {
    "execution": {
     "iopub.execute_input": "2020-04-22T22:45:09.321792Z",
     "iopub.status.busy": "2020-04-22T22:45:09.321279Z",
     "iopub.status.idle": "2020-04-22T22:45:09.590548Z",
     "shell.execute_reply": "2020-04-22T22:45:09.589822Z",
     "shell.execute_reply.started": "2020-04-22T22:45:09.321746Z"
    }
   },
   "outputs": [
    {
     "data": {
      "text/plain": [
       "<matplotlib.colorbar.Colorbar at 0x1a3ac55710>"
      ]
     },
     "execution_count": 45,
     "metadata": {},
     "output_type": "execute_result"
    },
    {
     "data": {
      "image/png": "[encoded data removed]",
      "text/plain": [
       "<Figure size 432x288 with 2 Axes>"
      ]
     },
     "metadata": {
      "needs_background": "light"
     },
     "output_type": "display_data"
    }
   ],
   "source": [
    "plt.imshow(ibn.homology_labeling(image, .5).T,\n",
    "           origin = 'lower', vmin = -2, vmax = 2,\n",
    "           cmap = 'Greys')\n",
    "plt.colorbar()"
   ]
  },
  {
   "cell_type": "code",
   "execution_count": 71,
   "metadata": {
    "execution": {
     "iopub.execute_input": "2020-04-22T23:11:55.493865Z",
     "iopub.status.busy": "2020-04-22T23:11:55.493434Z",
     "iopub.status.idle": "2020-04-22T23:11:57.717301Z",
     "shell.execute_reply": "2020-04-22T23:11:57.716111Z",
     "shell.execute_reply.started": "2020-04-22T23:11:55.493828Z"
    }
   },
   "outputs": [
    {
     "data": {
      "text/plain": [
       "<matplotlib.colorbar.Colorbar at 0x1ad7068b00>"
      ]
     },
     "execution_count": 71,
     "metadata": {},
     "output_type": "execute_result"
    },
    {
     "data": {
      "image/png": "[encoded data removed]",
      "text/plain": [
       "<Figure size 432x288 with 2 Axes>"
      ]
     },
     "metadata": {
      "needs_background": "light"
     },
     "output_type": "display_data"
    }
   ],
   "source": [
    "blob0 = cv2.imread('example_images/blob0.png')\n",
    "blob0 = 1 - blob0[:, :, 1]/blob0[:, :, 1].max()\n",
    "width = 300\n",
    "height = 300\n",
    "blob0 = cv2.resize(blob0, (width, height))\n",
    "plt.imshow(ibn.homology_labeling(blob0, .5 ), cmap = 'YlOrRd', vmin = -1, vmax = 3)\n",
    "plt.colorbar()"
   ]
  },
  {
   "cell_type": "code",
   "execution_count": 72,
   "metadata": {
    "execution": {
     "iopub.execute_input": "2020-04-22T23:12:18.518386Z",
     "iopub.status.busy": "2020-04-22T23:12:18.517897Z",
     "iopub.status.idle": "2020-04-22T23:17:44.705975Z",
     "shell.execute_reply": "2020-04-22T23:17:44.702931Z",
     "shell.execute_reply.started": "2020-04-22T23:12:18.518342Z"
    }
   },
   "outputs": [
    {
     "data": {
      "image/png": "[encoded data removed]",
      "text/plain": [
       "<Figure size 432x288 with 2 Axes>"
      ]
     },
     "metadata": {
      "needs_background": "light"
     },
     "output_type": "display_data"
    }
   ],
   "source": [
    "pic = plt.imread('example_images/blob1.png')\n",
    "pic = 1 - pic[:, :, 2]\n",
    "plt.imshow(ibn.homology_labeling(pic, -.5), cmap = 'YlOrRd', vmin = -1, vmax = 3)\n",
    "plt.colorbar();"
   ]
  },
  {
   "cell_type": "code",
   "execution_count": 73,
   "metadata": {
    "execution": {
     "iopub.execute_input": "2020-04-22T23:17:44.714103Z",
     "iopub.status.busy": "2020-04-22T23:17:44.713236Z",
     "iopub.status.idle": "2020-04-23T00:03:55.722462Z",
     "shell.execute_reply": "2020-04-23T00:03:55.721278Z",
     "shell.execute_reply.started": "2020-04-22T23:17:44.714041Z"
    }
   },
   "outputs": [
    {
     "data": {
      "image/png": "[encoded data removed]",
      "text/plain": [
       "<Figure size 432x288 with 2 Axes>"
      ]
     },
     "metadata": {
      "needs_background": "light"
     },
     "output_type": "display_data"
    }
   ],
   "source": [
    "pic = plt.imread('example_images/blob2.png')\n",
    "pic = 1 - pic[:, :, 2]\n",
    "plt.imshow(ibn.homology_labeling(pic, -.5), cmap = 'YlOrRd', vmin = -1, vmax = 3)\n",
    "plt.colorbar();"
   ]
  },
  {
   "cell_type": "code",
   "execution_count": 70,
   "metadata": {
    "execution": {
     "iopub.execute_input": "2020-04-22T23:11:25.021407Z",
     "iopub.status.busy": "2020-04-22T23:11:25.021043Z",
     "iopub.status.idle": "2020-04-22T23:11:26.573911Z",
     "shell.execute_reply": "2020-04-22T23:11:26.572686Z",
     "shell.execute_reply.started": "2020-04-22T23:11:25.021357Z"
    }
   },
   "outputs": [
    {
     "data": {
      "text/plain": [
       "<matplotlib.colorbar.Colorbar at 0x1a5bffc668>"
      ]
     },
     "execution_count": 70,
     "metadata": {},
     "output_type": "execute_result"
    },
    {
     "data": {
      "image/png": "[encoded data removed]",
      "text/plain": [
       "<Figure size 432x288 with 2 Axes>"
      ]
     },
     "metadata": {
      "needs_background": "light"
     },
     "output_type": "display_data"
    }
   ],
   "source": [
    "blob4 = cv2.imread('example_images/blob4.png')\n",
    "blob4 = 1 - blob4[:, :, 1]/blob4[:, :, 1].max()\n",
    "width = 300\n",
    "height = 300\n",
    "blob4 = cv2.resize(blob4, (width, height))\n",
    "plt.imshow(ibn.homology_labeling(blob4, .5 ), cmap = 'YlOrRd', vmin = -1, vmax = 3)\n",
    "plt.colorbar()"
   ]
  },
  {
   "cell_type": "code",
   "execution_count": null,
   "metadata": {},
   "outputs": [],
   "source": []
  }
 ],
 "metadata": {
  "kernelspec": {
   "display_name": "Python 3",
   "language": "python",
   "name": "python3"
  },
  "language_info": {
   "codemirror_mode": {
    "name": "ipython",
    "version": 3
   },
   "file_extension": ".py",
   "mimetype": "text/x-python",
   "name": "python",
   "nbconvert_exporter": "python",
   "pygments_lexer": "ipython3",
   "version": "3.7.3"
  }
 },
 "nbformat": 4,
 "nbformat_minor": 4
}
