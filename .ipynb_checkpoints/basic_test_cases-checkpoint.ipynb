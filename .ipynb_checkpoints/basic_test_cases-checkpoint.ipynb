{
 "cells": [
  {
   "cell_type": "markdown",
   "metadata": {},
   "source": [
    "# Betti Numbers example:\n",
    "\n",
    "Below are a few examples of the first and second betti numbers of various (binary) images."
   ]
  },
  {
   "cell_type": "code",
   "execution_count": 73,
   "metadata": {
    "execution": {
     "iopub.execute_input": "2020-04-22T16:11:27.123251Z",
     "iopub.status.busy": "2020-04-22T16:11:27.122286Z",
     "iopub.status.idle": "2020-04-22T16:11:27.136270Z",
     "shell.execute_reply": "2020-04-22T16:11:27.132995Z",
     "shell.execute_reply.started": "2020-04-22T16:11:27.123160Z"
    }
   },
   "outputs": [],
   "source": [
    "import numpy as np\n",
    "import matplotlib.pyplot as plt\n",
    "import images_betti_number as ibn"
   ]
  },
  {
   "cell_type": "code",
   "execution_count": 89,
   "metadata": {
    "execution": {
     "iopub.execute_input": "2020-04-22T16:18:54.240666Z",
     "iopub.status.busy": "2020-04-22T16:18:54.240310Z",
     "iopub.status.idle": "2020-04-22T16:18:54.433576Z",
     "shell.execute_reply": "2020-04-22T16:18:54.432798Z",
     "shell.execute_reply.started": "2020-04-22T16:18:54.240627Z"
    }
   },
   "outputs": [
    {
     "data": {
      "text/plain": [
       "<matplotlib.image.AxesImage at 0x1a1ba599e8>"
      ]
     },
     "execution_count": 89,
     "metadata": {},
     "output_type": "execute_result"
    },
    {
     "data": {
      "image/png": "[encoded data removed]",
      "text/plain": [
       "<Figure size 432x288 with 1 Axes>"
      ]
     },
     "metadata": {
      "needs_background": "light"
     },
     "output_type": "display_data"
    }
   ],
   "source": [
    "image1= np.zeros((10, 10))\n",
    "image1[1:4, 1: 4] = 1\n",
    "image1[1:4, 1:4] = 1\n",
    "plt.imshow(image1.T, origin = 'lower', cmap = 'Greys')"
   ]
  },
  {
   "cell_type": "markdown",
   "metadata": {
    "execution": {
     "iopub.execute_input": "2020-04-22T16:13:56.460259Z",
     "iopub.status.busy": "2020-04-22T16:13:56.459752Z",
     "iopub.status.idle": "2020-04-22T16:13:56.472266Z",
     "shell.execute_reply": "2020-04-22T16:13:56.468548Z",
     "shell.execute_reply.started": "2020-04-22T16:13:56.460200Z"
    }
   },
   "source": [
    "The dark region has a single connected component and no homology classes. Hopefully, `ibn.betti_numbers` gives `[1, 0]`"
   ]
  },
  {
   "cell_type": "code",
   "execution_count": 90,
   "metadata": {
    "execution": {
     "iopub.execute_input": "2020-04-22T16:18:58.925000Z",
     "iopub.status.busy": "2020-04-22T16:18:58.924632Z",
     "iopub.status.idle": "2020-04-22T16:18:58.935765Z",
     "shell.execute_reply": "2020-04-22T16:18:58.934129Z",
     "shell.execute_reply.started": "2020-04-22T16:18:58.924959Z"
    }
   },
   "outputs": [
    {
     "data": {
      "text/plain": [
       "[1, 0]"
      ]
     },
     "execution_count": 90,
     "metadata": {},
     "output_type": "execute_result"
    }
   ],
   "source": [
    "ibn.betti_numbers(image1, .5)"
   ]
  },
  {
   "cell_type": "code",
   "execution_count": 91,
   "metadata": {
    "execution": {
     "iopub.execute_input": "2020-04-22T16:18:59.487101Z",
     "iopub.status.busy": "2020-04-22T16:18:59.486719Z",
     "iopub.status.idle": "2020-04-22T16:18:59.672571Z",
     "shell.execute_reply": "2020-04-22T16:18:59.671671Z",
     "shell.execute_reply.started": "2020-04-22T16:18:59.487061Z"
    }
   },
   "outputs": [
    {
     "data": {
      "text/plain": [
       "<matplotlib.image.AxesImage at 0x1a1bb93f98>"
      ]
     },
     "execution_count": 91,
     "metadata": {},
     "output_type": "execute_result"
    },
    {
     "data": {
      "image/png": "[encoded data removed]",
      "text/plain": [
       "<Figure size 432x288 with 1 Axes>"
      ]
     },
     "metadata": {
      "needs_background": "light"
     },
     "output_type": "display_data"
    }
   ],
   "source": [
    "image2= np.zeros((10, 10))\n",
    "image2[[1, 3], 1: 4] = 1\n",
    "image2[1:4, [1, 3]] = 1\n",
    "plt.imshow(image2.T, origin = 'lower', cmap = 'Greys')"
   ]
  },
  {
   "cell_type": "markdown",
   "metadata": {},
   "source": [
    "The dark region has a single connected component and a single homology class. Hopefully, `ibn.betti_numbers` gives `[1, 1]`"
   ]
  },
  {
   "cell_type": "code",
   "execution_count": 76,
   "metadata": {
    "execution": {
     "iopub.execute_input": "2020-04-22T16:13:11.399865Z",
     "iopub.status.busy": "2020-04-22T16:13:11.399529Z",
     "iopub.status.idle": "2020-04-22T16:13:11.411315Z",
     "shell.execute_reply": "2020-04-22T16:13:11.409921Z",
     "shell.execute_reply.started": "2020-04-22T16:13:11.399829Z"
    }
   },
   "outputs": [
    {
     "data": {
      "text/plain": [
       "[1, 1]"
      ]
     },
     "execution_count": 76,
     "metadata": {},
     "output_type": "execute_result"
    }
   ],
   "source": [
    "ibn.betti_numbers(image2, .5)"
   ]
  },
  {
   "cell_type": "code",
   "execution_count": 106,
   "metadata": {
    "execution": {
     "iopub.execute_input": "2020-04-22T16:23:05.607071Z",
     "iopub.status.busy": "2020-04-22T16:23:05.606702Z",
     "iopub.status.idle": "2020-04-22T16:23:05.785404Z",
     "shell.execute_reply": "2020-04-22T16:23:05.784321Z",
     "shell.execute_reply.started": "2020-04-22T16:23:05.607029Z"
    }
   },
   "outputs": [
    {
     "data": {
      "text/plain": [
       "<matplotlib.image.AxesImage at 0x1a1c460518>"
      ]
     },
     "execution_count": 106,
     "metadata": {},
     "output_type": "execute_result"
    },
    {
     "data": {
      "image/png": "[encoded data removed]",
      "text/plain": [
       "<Figure size 432x288 with 1 Axes>"
      ]
     },
     "metadata": {
      "needs_background": "light"
     },
     "output_type": "display_data"
    }
   ],
   "source": [
    "image3= np.zeros((10, 10))\n",
    "image3[[1, 3], 1: 8] = 1\n",
    "image3[1:4, [1, 3, 7]] = 1\n",
    "plt.imshow(image3.T, origin = 'lower', cmap = 'Greys')"
   ]
  },
  {
   "cell_type": "markdown",
   "metadata": {
    "execution": {
     "iopub.execute_input": "2020-04-22T16:16:46.381429Z",
     "iopub.status.busy": "2020-04-22T16:16:46.381072Z",
     "iopub.status.idle": "2020-04-22T16:16:46.391855Z",
     "shell.execute_reply": "2020-04-22T16:16:46.389762Z",
     "shell.execute_reply.started": "2020-04-22T16:16:46.381388Z"
    }
   },
   "source": [
    "The dark region has a single connected component and two homology classes. Hopefully, `ibn.betti_numbers` gives `[1, 2]`"
   ]
  },
  {
   "cell_type": "code",
   "execution_count": 93,
   "metadata": {
    "execution": {
     "iopub.execute_input": "2020-04-22T16:19:30.997553Z",
     "iopub.status.busy": "2020-04-22T16:19:30.997193Z",
     "iopub.status.idle": "2020-04-22T16:19:31.010780Z",
     "shell.execute_reply": "2020-04-22T16:19:31.009363Z",
     "shell.execute_reply.started": "2020-04-22T16:19:30.997513Z"
    }
   },
   "outputs": [
    {
     "data": {
      "text/plain": [
       "[1, 2]"
      ]
     },
     "execution_count": 93,
     "metadata": {},
     "output_type": "execute_result"
    }
   ],
   "source": [
    "ibn.betti_numbers(image2, .5)"
   ]
  },
  {
   "cell_type": "code",
   "execution_count": 107,
   "metadata": {
    "execution": {
     "iopub.execute_input": "2020-04-22T16:23:13.708361Z",
     "iopub.status.busy": "2020-04-22T16:23:13.708041Z",
     "iopub.status.idle": "2020-04-22T16:23:13.889008Z",
     "shell.execute_reply": "2020-04-22T16:23:13.888042Z",
     "shell.execute_reply.started": "2020-04-22T16:23:13.708326Z"
    }
   },
   "outputs": [
    {
     "data": {
      "text/plain": [
       "<matplotlib.image.AxesImage at 0x1a1c5a8c18>"
      ]
     },
     "execution_count": 107,
     "metadata": {},
     "output_type": "execute_result"
    },
    {
     "data": {
      "image/png": "[encoded data removed]",
      "text/plain": [
       "<Figure size 432x288 with 1 Axes>"
      ]
     },
     "metadata": {
      "needs_background": "light"
     },
     "output_type": "display_data"
    }
   ],
   "source": [
    "image4= np.zeros((10, 10))\n",
    "image4[[1, 3], 1: 4] = 1\n",
    "image4[[1, 3], 5: 7] = 1\n",
    "image4[1:4, [1, 3, 5, 7]] = 1\n",
    "plt.imshow(image4.T, origin = 'lower', cmap = 'Greys')"
   ]
  },
  {
   "cell_type": "markdown",
   "metadata": {},
   "source": [
    "The dark region has a two connected components and two homology classes. Hopefully, `ibn.betti_numbers` gives `[2, 2]`"
   ]
  },
  {
   "cell_type": "code",
   "execution_count": 108,
   "metadata": {
    "execution": {
     "iopub.execute_input": "2020-04-22T16:23:40.511295Z",
     "iopub.status.busy": "2020-04-22T16:23:40.510961Z",
     "iopub.status.idle": "2020-04-22T16:23:40.521957Z",
     "shell.execute_reply": "2020-04-22T16:23:40.520587Z",
     "shell.execute_reply.started": "2020-04-22T16:23:40.511258Z"
    }
   },
   "outputs": [
    {
     "data": {
      "text/plain": [
       "[2, 2]"
      ]
     },
     "execution_count": 108,
     "metadata": {},
     "output_type": "execute_result"
    }
   ],
   "source": [
    "ibn.betti_numbers(image2, .5)"
   ]
  },
  {
   "cell_type": "code",
   "execution_count": null,
   "metadata": {},
   "outputs": [],
   "source": []
  }
 ],
 "metadata": {
  "kernelspec": {
   "display_name": "Python 3",
   "language": "python",
   "name": "python3"
  },
  "language_info": {
   "codemirror_mode": {
    "name": "ipython",
    "version": 3
   },
   "file_extension": ".py",
   "mimetype": "text/x-python",
   "name": "python",
   "nbconvert_exporter": "python",
   "pygments_lexer": "ipython3",
   "version": "3.7.3"
  }
 },
 "nbformat": 4,
 "nbformat_minor": 4
}
